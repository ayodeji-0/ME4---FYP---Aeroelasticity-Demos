{
  "cells": [
    {
      "cell_type": "code",
      "execution_count": null,
      "metadata": {},
      "outputs": [],
      "source": [
        "# Install dependencies\n",
        "!pip install sentence-transformers faiss-cpu nltk pymupdf"
      ]
    },
    {
      "cell_type": "code",
      "execution_count": null,
      "metadata": {},
      "outputs": [],
      "source": [
        "# Download and save Instructor-XL model\n",
        "from sentence_transformers import SentenceTransformer\n",
        "\n",
        "instructor_model = SentenceTransformer('hkunlp/instructor-xl')\n",
        "instructor_model.save('chatbot/models/instructor_xl')"
      ]
    }
  ],
  "metadata": {
    "kernelspec": {
      "display_name": "Python 3",
      "language": "python",
      "name": "python3"
    },
    "language_info": {
      "name": "python",
      "version": "3.9"
    }
  },
  "nbformat": 4,
  "nbformat_minor": 2
}
