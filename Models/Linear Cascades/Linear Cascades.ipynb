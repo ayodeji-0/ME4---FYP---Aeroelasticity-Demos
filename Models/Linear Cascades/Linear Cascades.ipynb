{
 "cells": [
  {
   "cell_type": "code",
   "execution_count": 1,
   "metadata": {},
   "outputs": [],
   "source": [
    "import numpy as np\n",
    "import matplotlib.pyplot as plt\n",
    "\n",
    "# Constants and Initialization\n",
    "PI = np.pi\n",
    "DEG = 180 / PI\n",
    "\n",
    "# Function to calculate wave properties\n",
    "def calculate_wave_properties(mach, lam, phase, sc, stag_deg):\n",
    "    \"\"\"\n",
    "    Calculate wave properties given the Mach number, frequency parameter,\n",
    "    inter-blade phase angle, space/chord ratio, and stagger angle.\n",
    "    \"\"\"\n",
    "    stag = np.radians(stag_deg)\n",
    "    mach2 = mach ** 2\n",
    "    b2 = 1.0 - mach2\n",
    "    b = np.sqrt(b2)\n",
    "    cos_stag = np.cos(stag)\n",
    "    sin_stag = np.sin(stag)\n",
    "    \n",
    "    # Wave properties\n",
    "    beta_h = (phase - 2 * PI) / sc\n",
    "    beta_h2 = beta_h ** 2\n",
    "    a = lam ** 2 + beta_h2 + 2.0 * lam * beta_h * sin_stag\n",
    "    d = mach2 * (lam + beta_h * sin_stag) * cos_stag / b2\n",
    "    e = beta_h2 - mach2 * a\n",
    "    \n",
    "    return {\"a\": a, \"d\": d, \"e\": e, \"beta_h\": beta_h}\n",
    "\n",
    "# Function to visualize wave properties\n",
    "def visualize_wave_properties(wave_data):\n",
    "    \"\"\"\n",
    "    Plot the computed wave properties.\n",
    "    \"\"\"\n",
    "    beta_h = wave_data[\"beta_h\"]\n",
    "    e = wave_data[\"e\"]\n",
    "    \n",
    "    plt.figure(figsize=(8, 5))\n",
    "    plt.plot([beta_h], [e], marker='o', label='Wave Energy E', color='blue')\n",
    "    plt.axhline(0, color='black', linestyle='--', linewidth=0.8)\n",
    "    plt.xlabel(\"Beta_h (Wave Number)\")\n",
    "    plt.ylabel(\"E (Wave Energy)\")\n",
    "    plt.title(\"Wave Energy Distribution\")\n",
    "    plt.legend()\n",
    "    plt.grid(True)\n",
    "    plt.show()\n",
    "\n"
   ]
  },
  {
   "cell_type": "code",
   "execution_count": 2,
   "metadata": {},
   "outputs": [],
   "source": [
    "mach = 0.8\n",
    "lam = 0.5\n",
    "phase = 30 * (PI / 180)  # 30 degrees in radians\n",
    "sc = 1.0\n",
    "stag_deg = 45\n",
    "\n",
    "# Calculate wave properties\n",
    "wave_data = calculate_wave_properties(mach, lam, phase, sc, stag_deg)\n"
   ]
  },
  {
   "cell_type": "code",
   "execution_count": 3,
   "metadata": {},
   "outputs": [
    {
     "data": {
      "text/plain": [
       "{'a': np.float64(29.350194321460727),\n",
       " 'd': np.float64(-4.491093111461994),\n",
       " 'e': np.float64(14.388712649037693),\n",
       " 'beta_h': -5.759586531581287}"
      ]
     },
     "execution_count": 3,
     "metadata": {},
     "output_type": "execute_result"
    }
   ],
   "source": [
    "wave_data"
   ]
  },
  {
   "cell_type": "code",
   "execution_count": 4,
   "metadata": {},
   "outputs": [
    {
     "data": {
      "image/png": "[encoded data removed]",
      "text/plain": [
       "<Figure size 800x500 with 1 Axes>"
      ]
     },
     "metadata": {},
     "output_type": "display_data"
    }
   ],
   "source": [
    "# Example setup\n",
    "mach = 0.8\n",
    "lam = 0.5\n",
    "phase = 30 * (PI / 180)  # 30 degrees in radians\n",
    "sc = 1.0\n",
    "stag_deg = 45\n",
    "\n",
    "# Calculate wave properties\n",
    "wave_data = calculate_wave_properties(mach, lam, phase, sc, stag_deg)\n",
    "\n",
    "# Visualize results\n",
    "visualize_wave_properties(wave_data)\n"
   ]
  },
  {
   "cell_type": "code",
   "execution_count": null,
   "metadata": {},
   "outputs": [],
   "source": []
  }
 ],
 "metadata": {
  "kernelspec": {
   "display_name": "Python 3",
   "language": "python",
   "name": "python3"
  },
  "language_info": {
   "codemirror_mode": {
    "name": "ipython",
    "version": 3
   },
   "file_extension": ".py",
   "mimetype": "text/x-python",
   "name": "python",
   "nbconvert_exporter": "python",
   "pygments_lexer": "ipython3",
   "version": "3.13.1"
  }
 },
 "nbformat": 4,
 "nbformat_minor": 2
}
